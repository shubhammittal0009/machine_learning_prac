{
 "cells": [
  {
   "cell_type": "code",
   "execution_count": 1,
   "metadata": {},
   "outputs": [],
   "source": [
    "import numpy as np\n",
    "from matplotlib import pyplot as plt\n",
    "\n",
    "from jupyterthemes import jtplot\n",
    "jtplot.style()"
   ]
  },
  {
   "cell_type": "code",
   "execution_count": 41,
   "metadata": {},
   "outputs": [
    {
     "name": "stdout",
     "output_type": "stream",
     "text": [
      "(200, 2)\n",
      "(200, 2)\n"
     ]
    }
   ],
   "source": [
    "mean_01 = np.array([3.0,4.0])\n",
    "# Lemons are sour, avg sweetness will low, they have some low value for color\n",
    "# Red values is higher, Yellow Lower\n",
    "# Sweetness is higher, Sourness Lower\n",
    "cov_01 = np.array([[1.0,-0.5],[-0.5,1.0]])\n",
    "\n",
    "mean_02 = np.array([0.0,0.0])\n",
    "cov_02 = np.array([[1.0,0.5],[0.5,0.6]])\n",
    "\n",
    "dist_01 = np.random.multivariate_normal(mean_01,cov_01,200)\n",
    "dist_02 = np.random.multivariate_normal(mean_02,cov_02,200)\n",
    "\n",
    "print(dist_01.shape)\n",
    "print(dist_02.shape)\n",
    "# print(dist_01)"
   ]
  },
  {
   "cell_type": "code",
   "execution_count": 42,
   "metadata": {},
   "outputs": [
    {
     "data": {
      "image/png": "[encoded data removed]",
      "text/plain": [
       "<Figure size 432x288 with 1 Axes>"
      ]
     },
     "metadata": {
      "needs_background": "dark"
     },
     "output_type": "display_data"
    }
   ],
   "source": [
    "# To make Scatter plot of these points\n",
    "plt.figure(0)\n",
    "\n",
    "for x in range(dist_01.shape[0]):\n",
    "    plt.scatter(dist_01[x,0],dist_01[x,1],color=\"red\")\n",
    "    plt.scatter(dist_02[x,0],dist_02[x,1],color=\"yellow\")\n",
    "\n",
    "plt.show()"
   ]
  },
  {
   "cell_type": "code",
   "execution_count": 43,
   "metadata": {},
   "outputs": [],
   "source": [
    "# Training Data Preparation\n",
    "\n",
    "# 400 Samples - 200 for Apples, 200 for Lemons\n",
    "\n",
    "labels = np.zeros((400,1))\n",
    "labels[200: ] = 1.0\n",
    "\n",
    "X_data = np.zeros((400,2))\n",
    "X_data[ :200,:] = dist_01\n",
    "X_data[200: ,:] = dist_02\n",
    "\n",
    "# print(X_data)\n",
    "# print(labels)"
   ]
  },
  {
   "cell_type": "markdown",
   "metadata": {},
   "source": [
    "# KNN Algorithm :)"
   ]
  },
  {
   "cell_type": "code",
   "execution_count": 44,
   "metadata": {},
   "outputs": [
    {
     "name": "stdout",
     "output_type": "stream",
     "text": [
      "1.4142135623730951\n"
     ]
    }
   ],
   "source": [
    "# Distance of the query_point  to all other points in the space ( O(n) time for every point + sorting )\n",
    "# Complexity O(Q.N)\n",
    "\n",
    "# Euclidean Distance\n",
    "def dist(x1,x2):\n",
    "    return np.sqrt(((x1-x2)**2).sum())\n",
    "\n",
    "x1 = np.array([0.0,0.0])\n",
    "x2 = np.array([1.0,1.0])\n",
    "\n",
    "print(dist(x1,x2))"
   ]
  },
  {
   "cell_type": "code",
   "execution_count": 62,
   "metadata": {},
   "outputs": [
    {
     "name": "stdout",
     "output_type": "stream",
     "text": [
      "Point [2. 2.] is Lemon\n",
      "Point [0. 4.] is Apple\n"
     ]
    }
   ],
   "source": [
    "def knn(X_train,query_point,Y_train,k=5):\n",
    "    vals = []\n",
    "    \n",
    "    for ix in range(X_train.shape[0]):\n",
    "        v = [dist(query_point,X_train[ix,:]), Y_train[ix]]\n",
    "        vals.append(v)\n",
    "        \n",
    "    # vals is a list containing distances and their labels\n",
    "    updated_vals = sorted(vals)\n",
    "    \n",
    "    # Lets us pick up top K values\n",
    "    \n",
    "    pred_arr = np.asarray(updated_vals[:k])\n",
    "    pred_arr = np.unique(pred_arr[:,1],return_counts = True)\n",
    "    #Largest Occurance\n",
    "    index = pred_arr[1].argmax() # index of largest freq\n",
    "    return pred_arr[0][index]\n",
    "\n",
    "def decider(predicted_label):\n",
    "    if(predicted_label == [1.]):\n",
    "        print(\"Lemon\")\n",
    "    elif(predicted_label == [0.]):\n",
    "        print(\"Apple\")\n",
    "\n",
    "q = np.array([2.0,2.0])\n",
    "predicted_label = knn(X_data,q,labels)\n",
    "print(\"Point \" + str(q) + \" is\",end=\" \")\n",
    "decider(predicted_label)\n",
    "\n",
    "r = np.array([0.0,4.0])\n",
    "predicted_label = knn(X_data,r,labels)\n",
    "print(\"Point \" + str(r) + \" is\",end=\" \")\n",
    "decider(predicted_label)"
   ]
  },
  {
   "cell_type": "code",
   "execution_count": null,
   "metadata": {},
   "outputs": [],
   "source": []
  }
 ],
 "metadata": {
  "kernelspec": {
   "display_name": "Python 3",
   "language": "python",
   "name": "python3"
  },
  "language_info": {
   "codemirror_mode": {
    "name": "ipython",
    "version": 3
   },
   "file_extension": ".py",
   "mimetype": "text/x-python",
   "name": "python",
   "nbconvert_exporter": "python",
   "pygments_lexer": "ipython3",
   "version": "3.7.3"
  }
 },
 "nbformat": 4,
 "nbformat_minor": 2
}
