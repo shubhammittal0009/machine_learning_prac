{
 "cells": [
  {
   "cell_type": "code",
   "execution_count": 1,
   "metadata": {
    "colab": {},
    "colab_type": "code",
    "id": "IfouX5r8TNhZ"
   },
   "outputs": [],
   "source": [
    "#Variables\n",
    "\n",
    "x = 2\n",
    "y = 20.5\n",
    "z = \"Hello\""
   ]
  },
  {
   "cell_type": "code",
   "execution_count": 2,
   "metadata": {
    "colab": {
     "base_uri": "https://localhost:8080/",
     "height": 85
    },
    "colab_type": "code",
    "id": "baGHyG7VTkBd",
    "outputId": "b1f1dfd0-49d8-41cb-d952-0266f2146f6c"
   },
   "outputs": [
    {
     "name": "stdout",
     "output_type": "stream",
     "text": [
      "2\n",
      "Hello\n",
      "2Hello\n",
      "22.5\n"
     ]
    }
   ],
   "source": [
    "print(x)\n",
    "print(z)\n",
    "print(str(x)+z)\n",
    "print(x+y)"
   ]
  },
  {
   "cell_type": "code",
   "execution_count": 3,
   "metadata": {
    "colab": {
     "base_uri": "https://localhost:8080/",
     "height": 34
    },
    "colab_type": "code",
    "id": "GtRrYykWTsLE",
    "outputId": "1fda04b0-8e90-46eb-844c-5c7707c17ddc"
   },
   "outputs": [
    {
     "name": "stdout",
     "output_type": "stream",
     "text": [
      "<class 'int'>\n"
     ]
    }
   ],
   "source": [
    "#datatype\n",
    "print(type(x))"
   ]
  },
  {
   "cell_type": "code",
   "execution_count": 4,
   "metadata": {
    "colab": {
     "base_uri": "https://localhost:8080/",
     "height": 34
    },
    "colab_type": "code",
    "id": "Cn5XepmzTx3F",
    "outputId": "01012ddb-375d-4653-984a-136ade62a2bb"
   },
   "outputs": [
    {
     "name": "stdout",
     "output_type": "stream",
     "text": [
      "abcdefghi\n"
     ]
    }
   ],
   "source": [
    "##Strimgs\n",
    "myString = \"abcdefghi\"\n",
    "print(myString)"
   ]
  },
  {
   "cell_type": "code",
   "execution_count": 5,
   "metadata": {
    "colab": {
     "base_uri": "https://localhost:8080/",
     "height": 68
    },
    "colab_type": "code",
    "id": "6ce3TWhZT5U4",
    "outputId": "ab1c0f44-7f96-4601-cdde-e128cf261d19"
   },
   "outputs": [
    {
     "name": "stdout",
     "output_type": "stream",
     "text": [
      "abcd\n",
      "h\n",
      "abcdefgh\n"
     ]
    }
   ],
   "source": [
    "##Strimgs\n",
    "myString = \"abcdefghi\"\n",
    "print(myString[:4])\n",
    "print(myString[-2])\n",
    "print(myString[:-1])"
   ]
  },
  {
   "cell_type": "code",
   "execution_count": 6,
   "metadata": {
    "colab": {},
    "colab_type": "code",
    "id": "1ezRO18xULjN"
   },
   "outputs": [],
   "source": [
    "s = \"Hello World! I am learning python\"\n",
    "tokens = s.split(' ')"
   ]
  },
  {
   "cell_type": "code",
   "execution_count": 7,
   "metadata": {
    "colab": {
     "base_uri": "https://localhost:8080/",
     "height": 34
    },
    "colab_type": "code",
    "id": "AmnoFCVvUwYQ",
    "outputId": "5ace9a69-b92d-4af6-c8fe-8093677e3873"
   },
   "outputs": [
    {
     "name": "stdout",
     "output_type": "stream",
     "text": [
      "['Hello', 'World!', 'I', 'am', 'learning', 'python']\n"
     ]
    }
   ],
   "source": [
    "print(tokens)"
   ]
  },
  {
   "cell_type": "code",
   "execution_count": 8,
   "metadata": {
    "colab": {},
    "colab_type": "code",
    "id": "XDdsw5YjVKW8"
   },
   "outputs": [],
   "source": [
    "new_sentence = '-'.join(tokens)"
   ]
  },
  {
   "cell_type": "code",
   "execution_count": 9,
   "metadata": {
    "colab": {
     "base_uri": "https://localhost:8080/",
     "height": 34
    },
    "colab_type": "code",
    "id": "q22DN2QdUz6E",
    "outputId": "abe3476a-a3e5-4789-c934-b04a1ddfeb0a"
   },
   "outputs": [
    {
     "name": "stdout",
     "output_type": "stream",
     "text": [
      "Hello-World!-I-am-learning-python\n"
     ]
    }
   ],
   "source": [
    "print(new_sentence)"
   ]
  },
  {
   "cell_type": "code",
   "execution_count": 10,
   "metadata": {
    "colab": {
     "base_uri": "https://localhost:8080/",
     "height": 68
    },
    "colab_type": "code",
    "id": "2eLgaZFuVPdK",
    "outputId": "e6dfc033-1902-4c8d-c511-b3dea28acc07"
   },
   "outputs": [
    {
     "name": "stdout",
     "output_type": "stream",
     "text": [
      "1\n",
      "4\n",
      "7\n"
     ]
    }
   ],
   "source": [
    "#range\n",
    "\n",
    "for i in range(1,10,3):\n",
    "  print(i)"
   ]
  },
  {
   "cell_type": "code",
   "execution_count": 11,
   "metadata": {
    "colab": {},
    "colab_type": "code",
    "id": "ZfknVVJpVaZh"
   },
   "outputs": [],
   "source": [
    "def weatherForecast(weather):\n",
    "  \n",
    "  if(weather == \"Sunny\"):\n",
    "    print(\"it is a hot day\")\n",
    "  elif(weather == \"Rainy\"):\n",
    "    print(\"Its Raining Outside\")\n",
    "  else:\n",
    "    print(\"Cool Wheather\")"
   ]
  },
  {
   "cell_type": "code",
   "execution_count": 12,
   "metadata": {
    "colab": {
     "base_uri": "https://localhost:8080/",
     "height": 34
    },
    "colab_type": "code",
    "id": "yGiKrMZUWJ_C",
    "outputId": "81cfe30d-22a2-4830-d23d-a3724e25bd93"
   },
   "outputs": [
    {
     "name": "stdout",
     "output_type": "stream",
     "text": [
      "Its Raining Outside\n"
     ]
    }
   ],
   "source": [
    "weatherForecast(\"Rainy\")"
   ]
  },
  {
   "cell_type": "code",
   "execution_count": 13,
   "metadata": {
    "colab": {
     "base_uri": "https://localhost:8080/",
     "height": 34
    },
    "colab_type": "code",
    "id": "-wGhJ1XeWxTO",
    "outputId": "061898f7-40be-44d2-fa82-345f21ecc9ca"
   },
   "outputs": [
    {
     "name": "stdout",
     "output_type": "stream",
     "text": [
      "it is a hot day\n"
     ]
    }
   ],
   "source": [
    "weatherForecast(\"Sunny\")"
   ]
  },
  {
   "cell_type": "code",
   "execution_count": 14,
   "metadata": {
    "colab": {
     "base_uri": "https://localhost:8080/",
     "height": 34
    },
    "colab_type": "code",
    "id": "O1Qvzxx6W2e_",
    "outputId": "1ed036c0-a18c-447d-f78e-04f697540187"
   },
   "outputs": [
    {
     "name": "stdout",
     "output_type": "stream",
     "text": [
      "Cool Wheather\n"
     ]
    }
   ],
   "source": [
    "weatherForecast(\"Chillin\")"
   ]
  },
  {
   "cell_type": "code",
   "execution_count": 15,
   "metadata": {
    "colab": {},
    "colab_type": "code",
    "id": "PWi94sBFW_FQ"
   },
   "outputs": [],
   "source": [
    "## Basics - Lists, Tuples and Dictionaries"
   ]
  },
  {
   "cell_type": "code",
   "execution_count": 18,
   "metadata": {},
   "outputs": [
    {
     "name": "stdout",
     "output_type": "stream",
     "text": [
      "[1, 2, 3, 4, 1, 5]\n",
      "[4, 1]\n"
     ]
    }
   ],
   "source": [
    "l1 = [1,2,3,4]\n",
    "l2 = list()\n",
    "l1.append(1)\n",
    "l1.append(5)\n",
    "print(l1)\n",
    "print(l1[3:5])"
   ]
  },
  {
   "cell_type": "code",
   "execution_count": 21,
   "metadata": {},
   "outputs": [
    {
     "name": "stdout",
     "output_type": "stream",
     "text": [
      "[0, 1, 8, 27, 64, 0, 1, 8, 27, 64]\n"
     ]
    }
   ],
   "source": [
    "for i in range(5):\n",
    "    l2.append(i**3)\n",
    "    \n",
    "print(l2)"
   ]
  },
  {
   "cell_type": "code",
   "execution_count": 23,
   "metadata": {},
   "outputs": [
    {
     "name": "stdout",
     "output_type": "stream",
     "text": [
      "('Apple', 1, 'Guava')\n"
     ]
    }
   ],
   "source": [
    "## Tuple - Collection of items (immutable)\n",
    "t = ()\n",
    "t2 = (\"Apple\",1,\"Guava\")\n",
    "print(t2)"
   ]
  },
  {
   "cell_type": "code",
   "execution_count": 30,
   "metadata": {},
   "outputs": [
    {
     "name": "stdout",
     "output_type": "stream",
     "text": [
      "{'mango': 100, 'apple': [10, 50, 80], 'guava': 80.5}\n",
      "<class 'dict'>\n",
      "dict_keys(['mango', 'apple', 'guava'])\n",
      "dict_values([100, [10, 50, 80], 80.5])\n",
      "100\n"
     ]
    }
   ],
   "source": [
    "## Dictionaries - Hashmaps(key Values Pairs)\n",
    "\n",
    "myDict = dict()\n",
    "\n",
    "fruit = {\n",
    "    'mango':100,\n",
    "    'apple':[10,50,80],\n",
    "    'guava':80.5\n",
    "}\n",
    "\n",
    "print(fruit)\n",
    "print(type(fruit))\n",
    "\n",
    "print(fruit.keys())\n",
    "print(fruit.values())\n",
    "\n",
    "print(fruit['mango'])"
   ]
  },
  {
   "cell_type": "code",
   "execution_count": 43,
   "metadata": {},
   "outputs": [
    {
     "name": "stdout",
     "output_type": "stream",
     "text": [
      "3\n",
      "---------args--------------\n",
      "(3, 4, 5)\n",
      "15\n",
      "---------args--------------\n",
      "(3, 4, 5)\n",
      "{'b': 20, 'c': 30, 'd': 40.5}\n",
      "105.5\n"
     ]
    }
   ],
   "source": [
    "# Args ang Kwargs\n",
    "\n",
    "def sum(x1,x2):\n",
    "    ans = x1 + x2\n",
    "    return ans\n",
    "\n",
    "print(sum(1,2))\n",
    "\n",
    "print(\"---------args--------------\")\n",
    "\n",
    "def sum(x1,x2,*args):\n",
    "    print(args)\n",
    "    ans = x1 + x2\n",
    "    for i in args:\n",
    "        ans += i\n",
    "    return ans\n",
    "\n",
    "print(sum(1,2,3,4,5))\n",
    "\n",
    "print(\"---------args--------------\")\n",
    "\n",
    "def sum(x1,x2,*args,**kwargs):\n",
    "    print(args)\n",
    "    print(kwargs)\n",
    "    ans = x1 + x2\n",
    "    for i in args:\n",
    "        ans += i\n",
    "    for j in kwargs.values():\n",
    "        ans += j\n",
    "    return ans\n",
    "\n",
    "print(sum(1,2,3,4,5,b=20,c=30,d=40.5))\n",
    "\n"
   ]
  },
  {
   "cell_type": "code",
   "execution_count": null,
   "metadata": {},
   "outputs": [],
   "source": []
  }
 ],
 "metadata": {
  "colab": {
   "name": "Untitled0.ipynb",
   "provenance": [],
   "version": "0.3.2"
  },
  "kernelspec": {
   "display_name": "Python 3",
   "language": "python",
   "name": "python3"
  },
  "language_info": {
   "codemirror_mode": {
    "name": "ipython",
    "version": 3
   },
   "file_extension": ".py",
   "mimetype": "text/x-python",
   "name": "python",
   "nbconvert_exporter": "python",
   "pygments_lexer": "ipython3",
   "version": "3.7.3"
  }
 },
 "nbformat": 4,
 "nbformat_minor": 1
}
