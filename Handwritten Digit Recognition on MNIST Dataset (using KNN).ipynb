{
 "cells": [
  {
   "cell_type": "code",
   "execution_count": 1,
   "metadata": {},
   "outputs": [],
   "source": [
    "import numpy as np\n",
    "import pandas as pd\n",
    "from matplotlib import pyplot as plt\n",
    "%matplotlib inline"
   ]
  },
  {
   "cell_type": "code",
   "execution_count": 2,
   "metadata": {},
   "outputs": [
    {
     "name": "stdout",
     "output_type": "stream",
     "text": [
      "(42000, 785)\n",
      "(42000, 785)\n"
     ]
    }
   ],
   "source": [
    "ds = pd.read_csv('./train.csv')\n",
    "print(ds.shape)\n",
    "\n",
    "data = ds.values\n",
    "print(data.shape)"
   ]
  },
  {
   "cell_type": "code",
   "execution_count": 3,
   "metadata": {},
   "outputs": [
    {
     "name": "stdout",
     "output_type": "stream",
     "text": [
      "(42000,) (42000, 784)\n",
      "2\n"
     ]
    },
    {
     "data": {
      "image/png": "[encoded data removed]",
      "text/plain": [
       "<Figure size 432x288 with 1 Axes>"
      ]
     },
     "metadata": {
      "needs_background": "light"
     },
     "output_type": "display_data"
    }
   ],
   "source": [
    "y_train = data[:, 0]\n",
    "x_train = data[:, 1:]\n",
    "\n",
    "# x_train = (x_train - x_train.mean(axis=0))/(x_train.std(axis=0)+1e-03)\n",
    "\n",
    "print(y_train.shape,x_train.shape)\n",
    "\n",
    "plt.figure(0)\n",
    "idx = 104\n",
    "print(y_train[idx])\n",
    "plt.imshow(x_train[idx].reshape((28,28)), cmap='gray')\n",
    "plt.show()"
   ]
  },
  {
   "cell_type": "code",
   "execution_count": 4,
   "metadata": {},
   "outputs": [],
   "source": [
    "def dist(x1, x2):\n",
    "    return np.sqrt(((x1-x2)**2).sum())\n",
    "\n",
    "def knn(X_train, x, y_train, k=5):\n",
    "    vals = []\n",
    "    \n",
    "    for ix in range(X_train.shape[0]):\n",
    "        v = [dist(x, X_train[ix, :]), y_train[ix]]\n",
    "        \n",
    "        vals.append(v)\n",
    "        \n",
    "    updated_vals = sorted(vals, key=lambda x: x[0])\n",
    "    pred_arr = np.asarray(updated_vals[:k])\n",
    "    pred_arr = np.unique(pred_arr[:, 1], return_counts=True)\n",
    "    pred = pred_arr[1].argmax()\n",
    "    \n",
    "    return pred_arr, pred_arr[0][pred]"
   ]
  },
  {
   "cell_type": "code",
   "execution_count": 8,
   "metadata": {},
   "outputs": [
    {
     "name": "stdout",
     "output_type": "stream",
     "text": [
      "((array([6.]), array([7])), 6.0)\n",
      "6\n"
     ]
    },
    {
     "data": {
      "image/png": "[encoded data removed]",
      "text/plain": [
       "<Figure size 432x288 with 1 Axes>"
      ]
     },
     "metadata": {
      "needs_background": "light"
     },
     "output_type": "display_data"
    }
   ],
   "source": [
    "idq = int(np.random.random()*x_train.shape[0])\n",
    "q = x_train[idq]\n",
    "\n",
    "res = x_train[idq]\n",
    "\n",
    "res = knn(x_train[:10000], q, y_train[:10000], k=7)\n",
    "print(res)\n",
    "print(y_train[idq])\n",
    "\n",
    "plt.figure(0)\n",
    "plt.imshow(q.reshape((28,28)), cmap=\"gray\")\n",
    "plt.show()"
   ]
  },
  {
   "cell_type": "code",
   "execution_count": null,
   "metadata": {},
   "outputs": [],
   "source": []
  }
 ],
 "metadata": {
  "kernelspec": {
   "display_name": "Python 3",
   "language": "python",
   "name": "python3"
  },
  "language_info": {
   "codemirror_mode": {
    "name": "ipython",
    "version": 3
   },
   "file_extension": ".py",
   "mimetype": "text/x-python",
   "name": "python",
   "nbconvert_exporter": "python",
   "pygments_lexer": "ipython3",
   "version": "3.7.3"
  }
 },
 "nbformat": 4,
 "nbformat_minor": 2
}
